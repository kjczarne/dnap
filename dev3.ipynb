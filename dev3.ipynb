{
 "cells": [
  {
   "attachments": {},
   "cell_type": "markdown",
   "metadata": {},
   "source": [
    "# Baselines\n",
    "\n",
    "Using the Nucleotide Transformer pre-trained model and fine-tuning on the GUE dataset for promoter prediction."
   ]
  },
  {
   "cell_type": "code",
   "execution_count": 1,
   "metadata": {},
   "outputs": [],
   "source": [
    "import pandas as pd\n",
    "import numpy as np\n",
    "import torch\n",
    "from torch import nn\n",
    "from torch.nn import functional as F"
   ]
  },
  {
   "cell_type": "code",
   "execution_count": 2,
   "metadata": {},
   "outputs": [],
   "source": [
    "df_train = pd.read_csv(\"./promoter_detection/train.csv\", header=0)\n",
    "df_val = pd.read_csv(\"./promoter_detection/dev.csv\", header=0)\n",
    "df_test = pd.read_csv(\"./promoter_detection/test.csv\", header=0)"
   ]
  },
  {
   "cell_type": "code",
   "execution_count": 3,
   "metadata": {},
   "outputs": [],
   "source": [
    "df_train_slice = df_train[:100]\n",
    "df_test_slice = df_test[:100]"
   ]
  },
  {
   "cell_type": "code",
   "execution_count": 5,
   "metadata": {},
   "outputs": [
    {
     "name": "stderr",
     "output_type": "stream",
     "text": [
      "Some weights of the model checkpoint at InstaDeepAI/nucleotide-transformer-500m-human-ref were not used when initializing EsmForSequenceClassification: ['lm_head.decoder.weight', 'lm_head.dense.weight', 'lm_head.layer_norm.weight', 'lm_head.layer_norm.bias', 'lm_head.bias', 'lm_head.dense.bias']\n",
      "- This IS expected if you are initializing EsmForSequenceClassification from the checkpoint of a model trained on another task or with another architecture (e.g. initializing a BertForSequenceClassification model from a BertForPreTraining model).\n",
      "- This IS NOT expected if you are initializing EsmForSequenceClassification from the checkpoint of a model that you expect to be exactly identical (initializing a BertForSequenceClassification model from a BertForSequenceClassification model).\n",
      "Some weights of EsmForSequenceClassification were not initialized from the model checkpoint at InstaDeepAI/nucleotide-transformer-500m-human-ref and are newly initialized: ['classifier.dense.weight', 'classifier.dense.bias', 'classifier.out_proj.weight', 'classifier.out_proj.bias']\n",
      "You should probably TRAIN this model on a down-stream task to be able to use it for predictions and inference.\n"
     ]
    }
   ],
   "source": [
    "from transformers import AutoTokenizer, AutoModelForMaskedLM, AutoModelForSequenceClassification\n",
    "import torch\n",
    "\n",
    "# Import the tokenizer and the model\n",
    "tokenizer = AutoTokenizer.from_pretrained(\"InstaDeepAI/nucleotide-transformer-500m-human-ref\")\n",
    "model = AutoModelForSequenceClassification.from_pretrained(\"InstaDeepAI/nucleotide-transformer-500m-human-ref\", num_labels=2)\n"
   ]
  },
  {
   "attachments": {},
   "cell_type": "markdown",
   "metadata": {},
   "source": [
    "Defining the metrics:"
   ]
  },
  {
   "cell_type": "code",
   "execution_count": 4,
   "metadata": {},
   "outputs": [
    {
     "name": "stderr",
     "output_type": "stream",
     "text": [
      "/home/chris/miniconda3/envs/enformer/lib/python3.10/site-packages/tqdm/auto.py:21: TqdmWarning: IProgress not found. Please update jupyter and ipywidgets. See https://ipywidgets.readthedocs.io/en/stable/user_install.html\n",
      "  from .autonotebook import tqdm as notebook_tqdm\n",
      "2023-07-09 15:33:43.168607: I tensorflow/core/util/port.cc:110] oneDNN custom operations are on. You may see slightly different numerical results due to floating-point round-off errors from different computation orders. To turn them off, set the environment variable `TF_ENABLE_ONEDNN_OPTS=0`.\n",
      "2023-07-09 15:33:43.197066: I tensorflow/core/platform/cpu_feature_guard.cc:182] This TensorFlow binary is optimized to use available CPU instructions in performance-critical operations.\n",
      "To enable the following instructions: AVX2 AVX512F AVX512_VNNI FMA, in other operations, rebuild TensorFlow with the appropriate compiler flags.\n",
      "2023-07-09 15:33:43.623747: W tensorflow/compiler/tf2tensorrt/utils/py_utils.cc:38] TF-TRT Warning: Could not find TensorRT\n"
     ]
    }
   ],
   "source": [
    "from transformers import EvalPrediction\n",
    "import evaluate\n",
    "\n",
    "def make_metrics_func(*dataset_load_args):\n",
    "    def compute_metrics(eval_pred: EvalPrediction):\n",
    "        accuracy = evaluate.load(\"accuracy\")\n",
    "        logits, labels = eval_pred\n",
    "        pred_class = np.argmax(logits, axis=-1)  # take the max-scoring logit as the predicted class ID\n",
    "        return accuracy.compute(predictions=pred_class,\n",
    "                                references=labels)\n",
    "    return compute_metrics\n",
    "\n",
    "compute_metrics = make_metrics_func()"
   ]
  },
  {
   "attachments": {},
   "cell_type": "markdown",
   "metadata": {},
   "source": [
    "Creating the dataset objects for the HuggingFace Transformers API:"
   ]
  },
  {
   "cell_type": "code",
   "execution_count": 5,
   "metadata": {},
   "outputs": [
    {
     "name": "stderr",
     "output_type": "stream",
     "text": [
      "Found cached dataset csv (/home/chris/.cache/huggingface/datasets/csv/default-68212c3a0ebc43dc/0.0.0/eea64c71ca8b46dd3f537ed218fc9bf495d5707789152eb2764f5c78fa66d59d)\n",
      "100%|██████████| 3/3 [00:00<00:00, 1547.33it/s]\n"
     ]
    },
    {
     "data": {
      "text/plain": [
       "DatasetDict({\n",
       "    train: Dataset({\n",
       "        features: ['sequence', 'label'],\n",
       "        num_rows: 47356\n",
       "    })\n",
       "    test: Dataset({\n",
       "        features: ['sequence', 'label'],\n",
       "        num_rows: 5920\n",
       "    })\n",
       "    val: Dataset({\n",
       "        features: ['sequence', 'label'],\n",
       "        num_rows: 5920\n",
       "    })\n",
       "})"
      ]
     },
     "execution_count": 5,
     "metadata": {},
     "output_type": "execute_result"
    }
   ],
   "source": [
    "from datasets import load_dataset\n",
    "\n",
    "data_files = dict(\n",
    "    train=\"./promoter_detection/train.csv\",\n",
    "    test=\"./promoter_detection/test.csv\",\n",
    "    val=\"./promoter_detection/dev.csv\"\n",
    ")\n",
    "\n",
    "promoter_dataset = load_dataset(\"csv\", data_files=data_files)\n",
    "\n",
    "promoter_dataset"
   ]
  },
  {
   "cell_type": "code",
   "execution_count": 6,
   "metadata": {},
   "outputs": [],
   "source": [
    "train_dataset = promoter_dataset[\"train\"]\n",
    "val_dataset = promoter_dataset[\"val\"]\n",
    "test_dataset = promoter_dataset[\"test\"]"
   ]
  },
  {
   "attachments": {},
   "cell_type": "markdown",
   "metadata": {},
   "source": [
    "Fine-tuning the Nucleotide Transformer model:"
   ]
  },
  {
   "cell_type": "code",
   "execution_count": 14,
   "metadata": {},
   "outputs": [
    {
     "name": "stderr",
     "output_type": "stream",
     "text": [
      "Loading cached processed dataset at /home/chris/.cache/huggingface/datasets/csv/default-68212c3a0ebc43dc/0.0.0/eea64c71ca8b46dd3f537ed218fc9bf495d5707789152eb2764f5c78fa66d59d/cache-c03578642010e454.arrow\n",
      "Loading cached processed dataset at /home/chris/.cache/huggingface/datasets/csv/default-68212c3a0ebc43dc/0.0.0/eea64c71ca8b46dd3f537ed218fc9bf495d5707789152eb2764f5c78fa66d59d/cache-0b114df6c15db2ec.arrow\n",
      "/home/chris/miniconda3/envs/enformer/lib/python3.10/site-packages/transformers/optimization.py:411: FutureWarning: This implementation of AdamW is deprecated and will be removed in a future version. Use the PyTorch implementation torch.optim.AdamW instead, or set `no_deprecation_warning=True` to disable this warning\n",
      "  warnings.warn(\n"
     ]
    },
    {
     "data": {
      "text/html": [
       "\n",
       "    <div>\n",
       "      \n",
       "      <progress value='12' max='17760' style='width:300px; height:20px; vertical-align: middle;'></progress>\n",
       "      [   12/17760 00:01 < 30:16, 9.77 it/s, Epoch 0.00/3]\n",
       "    </div>\n",
       "    <table border=\"1\" class=\"dataframe\">\n",
       "  <thead>\n",
       " <tr style=\"text-align: left;\">\n",
       "      <th>Epoch</th>\n",
       "      <th>Training Loss</th>\n",
       "      <th>Validation Loss</th>\n",
       "    </tr>\n",
       "  </thead>\n",
       "  <tbody>\n",
       "  </tbody>\n",
       "</table><p>"
      ],
      "text/plain": [
       "<IPython.core.display.HTML object>"
      ]
     },
     "metadata": {},
     "output_type": "display_data"
    },
    {
     "data": {
      "text/plain": [
       "TrainOutput(global_step=17760, training_loss=0.10641782818076846, metrics={'train_runtime': 2045.449, 'train_samples_per_second': 69.456, 'train_steps_per_second': 8.683, 'total_flos': 2.0601930777201144e+16, 'train_loss': 0.10641782818076846, 'epoch': 3.0})"
      ]
     },
     "execution_count": 14,
     "metadata": {},
     "output_type": "execute_result"
    }
   ],
   "source": [
    "from transformers import TrainingArguments, Trainer\n",
    "from datasets import Dataset\n",
    "from pathlib import Path\n",
    "\n",
    "model_save_dir = Path(\"results/model_nucleotide_transformer\")\n",
    "training_args = TrainingArguments(model_save_dir,\n",
    "                                    evaluation_strategy=\"epoch\")\n",
    "\n",
    "\n",
    "def tokenize(dataset: Dataset):\n",
    "    return tokenizer(dataset[\"sequence\"], padding=True)\n",
    "\n",
    "\n",
    "tokenized_train_dataset = train_dataset.map(tokenize, batched=True)\n",
    "tokenized_val_dataset = val_dataset.map(tokenize, batched=True)\n",
    "\n",
    "trainer = Trainer(\n",
    "    model,\n",
    "    training_args,\n",
    "    train_dataset=tokenized_train_dataset,\n",
    "    eval_dataset=tokenized_val_dataset,\n",
    "    tokenizer=tokenizer,\n",
    "    compute_metrics=compute_metrics\n",
    ")\n",
    "\n",
    "trainer.train()"
   ]
  },
  {
   "attachments": {},
   "cell_type": "markdown",
   "metadata": {},
   "source": [
    "Save the fine-tuned model:"
   ]
  },
  {
   "cell_type": "code",
   "execution_count": 21,
   "metadata": {},
   "outputs": [],
   "source": [
    "trainer.save_model(\"nucleotide_transformer_prom300\")"
   ]
  },
  {
   "attachments": {},
   "cell_type": "markdown",
   "metadata": {},
   "source": [
    "**At this point you might need to restart the kernel to clear CUDA memory and load the fine-tuned model back again**"
   ]
  },
  {
   "cell_type": "code",
   "execution_count": 7,
   "metadata": {},
   "outputs": [],
   "source": [
    "from transformers import AutoTokenizer, AutoModelForMaskedLM, AutoModelForSequenceClassification\n",
    "import torch\n",
    "\n",
    "# Import the tokenizer and the model\n",
    "tokenizer = AutoTokenizer.from_pretrained(\"InstaDeepAI/nucleotide-transformer-500m-human-ref\")\n",
    "model = AutoModelForSequenceClassification.from_pretrained(\"./nucleotide_transformer_prom300\", num_labels=2)\n"
   ]
  },
  {
   "attachments": {},
   "cell_type": "markdown",
   "metadata": {},
   "source": [
    "Send the model to the GPU:"
   ]
  },
  {
   "cell_type": "code",
   "execution_count": 8,
   "metadata": {},
   "outputs": [],
   "source": [
    "model = model.to(\"cuda\")"
   ]
  },
  {
   "attachments": {},
   "cell_type": "markdown",
   "metadata": {},
   "source": [
    "Check how much memory you have left on the GPU after loading the model:"
   ]
  },
  {
   "cell_type": "code",
   "execution_count": 9,
   "metadata": {},
   "outputs": [
    {
     "name": "stdout",
     "output_type": "stream",
     "text": [
      "/bin/bash: /home/chris/miniconda3/lib/libtinfo.so.6: no version information available (required by /bin/bash)\n",
      "memory.used [MiB]\n",
      "2504 MiB\n"
     ]
    }
   ],
   "source": [
    "!nvidia-smi --query-gpu=memory.used --format=csv"
   ]
  },
  {
   "attachments": {},
   "cell_type": "markdown",
   "metadata": {},
   "source": [
    "The Nucleotide Transformer model is about 2.3 GB."
   ]
  },
  {
   "attachments": {},
   "cell_type": "markdown",
   "metadata": {},
   "source": [
    "Evaluate the test dataset and collect metrics:"
   ]
  },
  {
   "cell_type": "code",
   "execution_count": 27,
   "metadata": {},
   "outputs": [
    {
     "name": "stdout",
     "output_type": "stream",
     "text": [
      "Accuracies per batch: [0.8716216216216216, 0.9128378378378378, 0.9175675675675675, 0.9101351351351351]\n",
      "Average accuracy: 0.9030405405405405\n"
     ]
    }
   ],
   "source": [
    "import evaluate\n",
    "from typing import Callable, Tuple, Union\n",
    "import numpy as np\n",
    "from sklearn.metrics import accuracy_score\n",
    "\n",
    "tokens_ids = tokenizer(test_dataset[\"sequence\"], return_tensors=\"pt\")[\"input_ids\"]\n",
    "\n",
    "# Splitting the test set into batches to avoid OOM errors with my lovely RTX 4080:\n",
    "# 5920 / 16 = 370\n",
    "\n",
    "split_into = 4\n",
    "\n",
    "Metric = Callable[[torch.Tensor | np.ndarray, torch.Tensor | np.ndarray], torch.Tensor | np.ndarray]\n",
    "\n",
    "def _eval(test_batch: torch.Tensor, attention_mask: torch.Tensor, output_hidden_states: bool):\n",
    "    with torch.no_grad():\n",
    "        torch_outs = model(\n",
    "            test_batch,\n",
    "            attention_mask=attention_mask,\n",
    "            output_hidden_states=output_hidden_states\n",
    "        )\n",
    "    return torch_outs\n",
    "\n",
    "\n",
    "def test_and_calculate_metrics(tokens_ids: torch.Tensor,\n",
    "                               labels: torch.Tensor,\n",
    "                               model: nn.Module,\n",
    "                               metric: Metric,\n",
    "                               split_into: int = 4,\n",
    "                               output_hidden_states: bool = False):\n",
    "    metric_vals = []\n",
    "\n",
    "    slice_size = tokens_ids.shape[0] // split_into\n",
    "    for test_batch, batch_labels in zip(tokens_ids.split(slice_size),\n",
    "                                        torch.tensor(labels).split(slice_size)):\n",
    "\n",
    "        # Compute the embeddings:\n",
    "        attention_mask = test_batch != tokenizer.pad_token_id\n",
    "\n",
    "        # Send tokens and attention mask to the GPU:\n",
    "        test_batch = test_batch.to(\"cuda\")\n",
    "        attention_mask = attention_mask.to(\"cuda\")\n",
    "\n",
    "        # Model outputs:\n",
    "        torch_outs = _eval(test_batch,\n",
    "                           attention_mask,\n",
    "                           output_hidden_states)\n",
    "        \n",
    "        y_hat_prob = nn.Sigmoid()(torch_outs.logits)\n",
    "        y_hat = torch.argmax(y_hat_prob, axis=-1)\n",
    "        metric_value = metric(batch_labels.to(\"cpu\").detach().numpy(), y_hat.to(\"cpu\").detach().numpy())\n",
    "        metric_vals.append(metric_value)\n",
    "\n",
    "    return metric_vals\n",
    "\n",
    "metric = accuracy_score\n",
    "\n",
    "accs = test_and_calculate_metrics(tokens_ids,\n",
    "                                  test_dataset[\"label\"],\n",
    "                                  model,\n",
    "                                  metric,\n",
    "                                  split_into)\n",
    "avg_acc = np.mean(accs)\n",
    "\n",
    "print(f\"Accuracies per batch: {accs}\")\n",
    "print(f\"Average accuracy: {avg_acc}\")"
   ]
  },
  {
   "attachments": {},
   "cell_type": "markdown",
   "metadata": {},
   "source": [
    "## DNABERT\n",
    "\n",
    "We now attempt to fine-tune DNABERT on the same task with the same dataset. **You might need to reload your kernel before you start** because your GPU memory could be overloaded."
   ]
  },
  {
   "cell_type": "code",
   "execution_count": 28,
   "metadata": {},
   "outputs": [
    {
     "name": "stderr",
     "output_type": "stream",
     "text": [
      "Some weights of the model checkpoint at zhihan1996/DNA_bert_6 were not used when initializing DNABertForSequenceClassification: ['cls.predictions.decoder.weight', 'cls.predictions.transform.LayerNorm.bias', 'cls.predictions.transform.dense.bias', 'cls.predictions.transform.dense.weight', 'cls.predictions.decoder.bias', 'cls.predictions.transform.LayerNorm.weight', 'cls.predictions.bias']\n",
      "- This IS expected if you are initializing DNABertForSequenceClassification from the checkpoint of a model trained on another task or with another architecture (e.g. initializing a BertForSequenceClassification model from a BertForPreTraining model).\n",
      "- This IS NOT expected if you are initializing DNABertForSequenceClassification from the checkpoint of a model that you expect to be exactly identical (initializing a BertForSequenceClassification model from a BertForSequenceClassification model).\n",
      "Some weights of DNABertForSequenceClassification were not initialized from the model checkpoint at zhihan1996/DNA_bert_6 and are newly initialized: ['classifier.bias', 'classifier.weight']\n",
      "You should probably TRAIN this model on a down-stream task to be able to use it for predictions and inference.\n",
      "Loading cached processed dataset at /home/chris/.cache/huggingface/datasets/csv/default-68212c3a0ebc43dc/0.0.0/eea64c71ca8b46dd3f537ed218fc9bf495d5707789152eb2764f5c78fa66d59d/cache-254c04ed2175bf9b.arrow\n",
      "Some weights of DNABertForSequenceClassification were not initialized from the model checkpoint at zhihan1996/DNA_bert_6 and are newly initialized: ['classifier.bias', 'classifier.weight']\n",
      "You should probably TRAIN this model on a down-stream task to be able to use it for predictions and inference.\n",
      "Loading cached processed dataset at /home/chris/.cache/huggingface/datasets/csv/default-68212c3a0ebc43dc/0.0.0/eea64c71ca8b46dd3f537ed218fc9bf495d5707789152eb2764f5c78fa66d59d/cache-254c04ed2175bf9b.arrow\n",
      "Loading cached processed dataset at /home/chris/.cache/huggingface/datasets/csv/default-68212c3a0ebc43dc/0.0.0/eea64c71ca8b46dd3f537ed218fc9bf495d5707789152eb2764f5c78fa66d59d/cache-7c6d5356ef00729f.arrow\n",
      "/home/chris/miniconda3/envs/enformer/lib/python3.10/site-packages/transformers/optimization.py:411: FutureWarning: This implementation of AdamW is deprecated and will be removed in a future version. Use the PyTorch implementation torch.optim.AdamW instead, or set `no_deprecation_warning=True` to disable this warning\n",
      "  warnings.warn(\n",
      "You're using a BertTokenizerFast tokenizer. Please note that with a fast tokenizer, using the `__call__` method is faster than using a method to encode the text followed by a call to the `pad` method to get a padded encoding.\n"
     ]
    },
    {
     "data": {
      "text/plain": [
       "TrainOutput(global_step=17760, training_loss=0.7012527543145257, metrics={'train_runtime': 546.339, 'train_samples_per_second': 260.036, 'train_steps_per_second': 32.507, 'total_flos': 219021453591120.0, 'train_loss': 0.7012527543145257, 'epoch': 3.0})"
      ]
     },
     "execution_count": 28,
     "metadata": {},
     "output_type": "execute_result"
    }
   ],
   "source": [
    "import torch\n",
    "from transformers import AutoTokenizer, AutoModel, AutoModelForSequenceClassification\n",
    "from transformers import TrainingArguments, Trainer\n",
    "from datasets import Dataset\n",
    "from pathlib import Path\n",
    "\n",
    "tokenizer = AutoTokenizer.from_pretrained(\"zhihan1996/DNA_bert_6\", trust_remote_code=True)\n",
    "model = AutoModelForSequenceClassification.from_pretrained(\"zhihan1996/DNA_bert_6\", trust_remote_code=True)\n",
    "\n",
    "model_save_dir = Path(\"results/model_dnabert\")\n",
    "training_args = TrainingArguments(model_save_dir,\n",
    "                                    evaluation_strategy=\"epoch\")\n",
    "\n",
    "\n",
    "def tokenize(dataset: Dataset):\n",
    "    return tokenizer(dataset[\"sequence\"], padding=True)\n",
    "\n",
    "\n",
    "tokenized_train_dataset = train_dataset.map(tokenize, batched=True)\n",
    "tokenized_val_dataset = val_dataset.map(tokenize, batched=True)\n",
    "\n",
    "trainer = Trainer(\n",
    "    model,\n",
    "    training_args,\n",
    "    train_dataset=tokenized_train_dataset,\n",
    "    eval_dataset=tokenized_val_dataset,\n",
    "    tokenizer=tokenizer,\n",
    "    compute_metrics=compute_metrics\n",
    ")\n",
    "\n",
    "trainer.train()"
   ]
  },
  {
   "cell_type": "code",
   "execution_count": 29,
   "metadata": {},
   "outputs": [],
   "source": [
    "trainer.save_model(\"dnabert_prom300\")"
   ]
  },
  {
   "attachments": {},
   "cell_type": "markdown",
   "metadata": {},
   "source": [
    "**You might want to restart the kernel and load the model again to save GPU memory before proceeding**. Loading the model back from the saved state:"
   ]
  },
  {
   "cell_type": "code",
   "execution_count": 30,
   "metadata": {},
   "outputs": [],
   "source": [
    "tokenizer = AutoTokenizer.from_pretrained(\"zhihan1996/DNA_bert_6\", trust_remote_code=True)\n",
    "model = AutoModelForSequenceClassification.from_pretrained(\"dnabert_prom300\", trust_remote_code=True)"
   ]
  },
  {
   "attachments": {},
   "cell_type": "markdown",
   "metadata": {},
   "source": [
    "Send model to the GPU:"
   ]
  },
  {
   "cell_type": "code",
   "execution_count": 32,
   "metadata": {},
   "outputs": [],
   "source": [
    "model = model.to(\"cuda\")"
   ]
  },
  {
   "cell_type": "code",
   "execution_count": 33,
   "metadata": {},
   "outputs": [
    {
     "name": "stdout",
     "output_type": "stream",
     "text": [
      "Accuracies per batch: [0.5047297297297297, 0.4918918918918919, 0.5162162162162162, 0.5006756756756757]\n",
      "Average accuracy: 0.5033783783783784\n"
     ]
    }
   ],
   "source": [
    "tokens_ids = tokenizer(test_dataset[\"sequence\"], return_tensors=\"pt\")[\"input_ids\"]\n",
    "\n",
    "# Splitting the test set into batches to avoid OOM errors with my lovely RTX 4080:\n",
    "# 5920 / 16 = 370\n",
    "\n",
    "split_into = 4\n",
    "\n",
    "metric = accuracy_score\n",
    "\n",
    "accs = test_and_calculate_metrics(tokens_ids,\n",
    "                                  test_dataset[\"label\"],\n",
    "                                  model,\n",
    "                                  metric,\n",
    "                                  split_into)\n",
    "avg_acc = np.mean(accs)\n",
    "\n",
    "print(f\"Accuracies per batch: {accs}\")\n",
    "print(f\"Average accuracy: {avg_acc}\")"
   ]
  },
  {
   "cell_type": "code",
   "execution_count": 34,
   "metadata": {},
   "outputs": [
    {
     "name": "stdout",
     "output_type": "stream",
     "text": [
      "Accuracies per batch: [0.5047297297297297, 0.4918918918918919, 0.5162162162162162, 0.5006756756756757]\n",
      "Average accuracy: 0.5033783783783784\n"
     ]
    }
   ],
   "source": [
    "metric = accuracy_score\n",
    "\n",
    "accs = test_and_calculate_metrics(tokens_ids,\n",
    "                                  test_dataset[\"label\"],\n",
    "                                  model,\n",
    "                                  metric,\n",
    "                                  split_into)\n",
    "avg_acc = np.mean(accs)\n",
    "\n",
    "print(f\"Accuracies per batch: {accs}\")\n",
    "print(f\"Average accuracy: {avg_acc}\")"
   ]
  },
  {
   "cell_type": "code",
   "execution_count": null,
   "metadata": {},
   "outputs": [],
   "source": []
  }
 ],
 "metadata": {
  "kernelspec": {
   "display_name": "enformer",
   "language": "python",
   "name": "python3"
  },
  "language_info": {
   "codemirror_mode": {
    "name": "ipython",
    "version": 3
   },
   "file_extension": ".py",
   "mimetype": "text/x-python",
   "name": "python",
   "nbconvert_exporter": "python",
   "pygments_lexer": "ipython3",
   "version": "3.10.11"
  },
  "orig_nbformat": 4
 },
 "nbformat": 4,
 "nbformat_minor": 2
}
