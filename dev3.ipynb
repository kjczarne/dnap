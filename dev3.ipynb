{
 "cells": [
  {
   "attachments": {},
   "cell_type": "markdown",
   "metadata": {},
   "source": [
    "# Baselines\n",
    "\n",
    "Using the Nucleotide Transformer pre-trained model and fine-tuning on the GUE dataset for promoter prediction."
   ]
  },
  {
   "cell_type": "code",
   "execution_count": 2,
   "metadata": {},
   "outputs": [
    {
     "name": "stdout",
     "output_type": "stream",
     "text": [
      "/bin/bash: /home/chris/miniconda3/lib/libtinfo.so.6: no version information available (required by /bin/bash)\n",
      "memory.used [MiB]\n",
      "167 MiB\n"
     ]
    }
   ],
   "source": [
    "!nvidia-smi --query-gpu=memory.used --format=csv"
   ]
  },
  {
   "cell_type": "code",
   "execution_count": 1,
   "metadata": {},
   "outputs": [],
   "source": [
    "import pandas as pd\n",
    "import numpy as np\n",
    "import torch\n",
    "from torch import nn\n",
    "from torch.nn import functional as F"
   ]
  },
  {
   "cell_type": "code",
   "execution_count": 2,
   "metadata": {},
   "outputs": [],
   "source": [
    "df_train = pd.read_csv(\"./promoter_detection/train.csv\", header=0)\n",
    "df_val = pd.read_csv(\"./promoter_detection/dev.csv\", header=0)\n",
    "df_test = pd.read_csv(\"./promoter_detection/test.csv\", header=0)"
   ]
  },
  {
   "cell_type": "code",
   "execution_count": 3,
   "metadata": {},
   "outputs": [],
   "source": [
    "df_train_slice = df_train[:100]\n",
    "df_test_slice = df_test[:100]"
   ]
  },
  {
   "cell_type": "code",
   "execution_count": 4,
   "metadata": {},
   "outputs": [
    {
     "name": "stderr",
     "output_type": "stream",
     "text": [
      "/home/chris/miniconda3/envs/enformer/lib/python3.10/site-packages/tqdm/auto.py:21: TqdmWarning: IProgress not found. Please update jupyter and ipywidgets. See https://ipywidgets.readthedocs.io/en/stable/user_install.html\n",
      "  from .autonotebook import tqdm as notebook_tqdm\n",
      "2023-07-11 15:24:04.523606: I tensorflow/core/util/port.cc:110] oneDNN custom operations are on. You may see slightly different numerical results due to floating-point round-off errors from different computation orders. To turn them off, set the environment variable `TF_ENABLE_ONEDNN_OPTS=0`.\n",
      "2023-07-11 15:24:04.551644: I tensorflow/core/platform/cpu_feature_guard.cc:182] This TensorFlow binary is optimized to use available CPU instructions in performance-critical operations.\n",
      "To enable the following instructions: AVX2 AVX512F AVX512_VNNI FMA, in other operations, rebuild TensorFlow with the appropriate compiler flags.\n",
      "2023-07-11 15:24:04.976764: W tensorflow/compiler/tf2tensorrt/utils/py_utils.cc:38] TF-TRT Warning: Could not find TensorRT\n",
      "Some weights of the model checkpoint at InstaDeepAI/nucleotide-transformer-500m-human-ref were not used when initializing EsmForSequenceClassification: ['lm_head.layer_norm.bias', 'lm_head.dense.bias', 'lm_head.decoder.weight', 'lm_head.bias', 'lm_head.dense.weight', 'lm_head.layer_norm.weight']\n",
      "- This IS expected if you are initializing EsmForSequenceClassification from the checkpoint of a model trained on another task or with another architecture (e.g. initializing a BertForSequenceClassification model from a BertForPreTraining model).\n",
      "- This IS NOT expected if you are initializing EsmForSequenceClassification from the checkpoint of a model that you expect to be exactly identical (initializing a BertForSequenceClassification model from a BertForSequenceClassification model).\n",
      "Some weights of EsmForSequenceClassification were not initialized from the model checkpoint at InstaDeepAI/nucleotide-transformer-500m-human-ref and are newly initialized: ['classifier.dense.bias', 'classifier.out_proj.weight', 'classifier.out_proj.bias', 'classifier.dense.weight']\n",
      "You should probably TRAIN this model on a down-stream task to be able to use it for predictions and inference.\n"
     ]
    }
   ],
   "source": [
    "from transformers import AutoTokenizer, AutoModelForMaskedLM, AutoModelForSequenceClassification\n",
    "import torch\n",
    "\n",
    "# Import the tokenizer and the model\n",
    "tokenizer = AutoTokenizer.from_pretrained(\"InstaDeepAI/nucleotide-transformer-500m-human-ref\")\n",
    "model = AutoModelForSequenceClassification.from_pretrained(\"InstaDeepAI/nucleotide-transformer-500m-human-ref\", num_labels=2)\n"
   ]
  },
  {
   "attachments": {},
   "cell_type": "markdown",
   "metadata": {},
   "source": [
    "Defining the metrics:"
   ]
  },
  {
   "cell_type": "code",
   "execution_count": 4,
   "metadata": {},
   "outputs": [
    {
     "name": "stderr",
     "output_type": "stream",
     "text": [
      "/home/chris/miniconda3/envs/enformer/lib/python3.10/site-packages/tqdm/auto.py:21: TqdmWarning: IProgress not found. Please update jupyter and ipywidgets. See https://ipywidgets.readthedocs.io/en/stable/user_install.html\n",
      "  from .autonotebook import tqdm as notebook_tqdm\n",
      "2023-07-11 21:53:44.539955: I tensorflow/core/util/port.cc:110] oneDNN custom operations are on. You may see slightly different numerical results due to floating-point round-off errors from different computation orders. To turn them off, set the environment variable `TF_ENABLE_ONEDNN_OPTS=0`.\n",
      "2023-07-11 21:53:44.567615: I tensorflow/core/platform/cpu_feature_guard.cc:182] This TensorFlow binary is optimized to use available CPU instructions in performance-critical operations.\n",
      "To enable the following instructions: AVX2 AVX512F AVX512_VNNI FMA, in other operations, rebuild TensorFlow with the appropriate compiler flags.\n",
      "2023-07-11 21:53:45.001283: W tensorflow/compiler/tf2tensorrt/utils/py_utils.cc:38] TF-TRT Warning: Could not find TensorRT\n"
     ]
    }
   ],
   "source": [
    "from transformers import EvalPrediction\n",
    "import evaluate\n",
    "\n",
    "def make_metrics_func(*dataset_load_args):\n",
    "    def compute_metrics(eval_pred: EvalPrediction):\n",
    "        accuracy = evaluate.load(\"accuracy\")\n",
    "        logits, labels = eval_pred\n",
    "        pred_class = np.argmax(logits, axis=-1)  # take the max-scoring logit as the predicted class ID\n",
    "        return accuracy.compute(predictions=pred_class,\n",
    "                                references=labels)\n",
    "    return compute_metrics\n",
    "\n",
    "compute_metrics = make_metrics_func()"
   ]
  },
  {
   "attachments": {},
   "cell_type": "markdown",
   "metadata": {},
   "source": [
    "Creating the dataset objects for the HuggingFace Transformers API:"
   ]
  },
  {
   "cell_type": "code",
   "execution_count": 5,
   "metadata": {},
   "outputs": [
    {
     "name": "stderr",
     "output_type": "stream",
     "text": [
      "Found cached dataset csv (/home/chris/.cache/huggingface/datasets/csv/default-68212c3a0ebc43dc/0.0.0/eea64c71ca8b46dd3f537ed218fc9bf495d5707789152eb2764f5c78fa66d59d)\n",
      "100%|██████████| 3/3 [00:00<00:00, 1497.07it/s]\n"
     ]
    },
    {
     "data": {
      "text/plain": [
       "DatasetDict({\n",
       "    train: Dataset({\n",
       "        features: ['sequence', 'label'],\n",
       "        num_rows: 47356\n",
       "    })\n",
       "    test: Dataset({\n",
       "        features: ['sequence', 'label'],\n",
       "        num_rows: 5920\n",
       "    })\n",
       "    val: Dataset({\n",
       "        features: ['sequence', 'label'],\n",
       "        num_rows: 5920\n",
       "    })\n",
       "})"
      ]
     },
     "execution_count": 5,
     "metadata": {},
     "output_type": "execute_result"
    }
   ],
   "source": [
    "from datasets import load_dataset\n",
    "\n",
    "data_files = dict(\n",
    "    train=\"./promoter_detection/train.csv\",\n",
    "    test=\"./promoter_detection/test.csv\",\n",
    "    val=\"./promoter_detection/dev.csv\"\n",
    ")\n",
    "\n",
    "promoter_dataset = load_dataset(\"csv\", data_files=data_files)\n",
    "\n",
    "promoter_dataset"
   ]
  },
  {
   "cell_type": "code",
   "execution_count": 6,
   "metadata": {},
   "outputs": [],
   "source": [
    "train_dataset = promoter_dataset[\"train\"]\n",
    "val_dataset = promoter_dataset[\"val\"]\n",
    "test_dataset = promoter_dataset[\"test\"]"
   ]
  },
  {
   "attachments": {},
   "cell_type": "markdown",
   "metadata": {},
   "source": [
    "How long is one sequence:"
   ]
  },
  {
   "cell_type": "code",
   "execution_count": 7,
   "metadata": {},
   "outputs": [
    {
     "data": {
      "text/plain": [
       "300"
      ]
     },
     "execution_count": 7,
     "metadata": {},
     "output_type": "execute_result"
    }
   ],
   "source": [
    "len(train_dataset[0]['sequence'])"
   ]
  },
  {
   "attachments": {},
   "cell_type": "markdown",
   "metadata": {},
   "source": [
    "Fine-tuning the Nucleotide Transformer model:"
   ]
  },
  {
   "cell_type": "code",
   "execution_count": 8,
   "metadata": {},
   "outputs": [],
   "source": [
    "from transformers import TrainingArguments, Trainer\n",
    "from datasets import Dataset\n",
    "from pathlib import Path\n",
    "\n",
    "model_save_dir = Path(\"results/model_nucleotide_transformer\")\n",
    "training_args = TrainingArguments(model_save_dir,\n",
    "                                    evaluation_strategy=\"epoch\")\n",
    "\n",
    "\n",
    "def tokenize(dataset: Dataset):\n",
    "    return tokenizer(dataset[\"sequence\"], padding=True)\n",
    "\n",
    "\n",
    "def training_pipeline(tokenizer,\n",
    "                      model,\n",
    "                      training_args,\n",
    "                      train_dataset,\n",
    "                      val_dataset):\n",
    "\n",
    "    tokenized_train_dataset = train_dataset.map(tokenize, batched=True)\n",
    "    tokenized_val_dataset = val_dataset.map(tokenize, batched=True)\n",
    "\n",
    "    trainer = Trainer(\n",
    "        model,\n",
    "        training_args,\n",
    "        train_dataset=tokenized_train_dataset,\n",
    "        eval_dataset=tokenized_val_dataset,\n",
    "        tokenizer=tokenizer,\n",
    "        compute_metrics=compute_metrics\n",
    "    )\n",
    "\n",
    "    return trainer"
   ]
  },
  {
   "cell_type": "code",
   "execution_count": null,
   "metadata": {},
   "outputs": [],
   "source": [
    "trainer = training_pipeline(tokenizer, model, training_args, train_dataset, val_dataset)\n",
    "trainer.train()"
   ]
  },
  {
   "attachments": {},
   "cell_type": "markdown",
   "metadata": {},
   "source": [
    "Save the fine-tuned model:"
   ]
  },
  {
   "cell_type": "code",
   "execution_count": 21,
   "metadata": {},
   "outputs": [],
   "source": [
    "trainer.save_model(\"nucleotide_transformer_prom300\")"
   ]
  },
  {
   "attachments": {},
   "cell_type": "markdown",
   "metadata": {},
   "source": [
    "**At this point you might need to restart the kernel to clear CUDA memory and load the fine-tuned model back again**"
   ]
  },
  {
   "cell_type": "code",
   "execution_count": 10,
   "metadata": {},
   "outputs": [],
   "source": [
    "from transformers import AutoTokenizer, AutoModelForMaskedLM, AutoModelForSequenceClassification\n",
    "import torch\n",
    "\n",
    "# Import the tokenizer and the model\n",
    "tokenizer = AutoTokenizer.from_pretrained(\"InstaDeepAI/nucleotide-transformer-500m-human-ref\")\n",
    "model = AutoModelForSequenceClassification.from_pretrained(\"./nucleotide_transformer_prom300\", num_labels=2)\n"
   ]
  },
  {
   "attachments": {},
   "cell_type": "markdown",
   "metadata": {},
   "source": [
    "Send the model to the GPU:"
   ]
  },
  {
   "cell_type": "code",
   "execution_count": 11,
   "metadata": {},
   "outputs": [],
   "source": [
    "model = model.to(\"cuda\")"
   ]
  },
  {
   "attachments": {},
   "cell_type": "markdown",
   "metadata": {},
   "source": [
    "Check how much memory you have left on the GPU after loading the model:"
   ]
  },
  {
   "cell_type": "code",
   "execution_count": 12,
   "metadata": {},
   "outputs": [
    {
     "name": "stdout",
     "output_type": "stream",
     "text": [
      "/bin/bash: /home/chris/miniconda3/lib/libtinfo.so.6: no version information available (required by /bin/bash)\n",
      "memory.used [MiB]\n",
      "2443 MiB\n"
     ]
    }
   ],
   "source": [
    "!nvidia-smi --query-gpu=memory.used --format=csv"
   ]
  },
  {
   "attachments": {},
   "cell_type": "markdown",
   "metadata": {},
   "source": [
    "The Nucleotide Transformer model is about 2.3 GB."
   ]
  },
  {
   "attachments": {},
   "cell_type": "markdown",
   "metadata": {},
   "source": [
    "Evaluate the test dataset and collect metrics:"
   ]
  },
  {
   "cell_type": "code",
   "execution_count": 9,
   "metadata": {},
   "outputs": [],
   "source": [
    "import evaluate\n",
    "from typing import Callable, Tuple, Union, Iterable, List\n",
    "import numpy as np\n",
    "from sklearn.metrics import accuracy_score\n",
    "\n",
    "# Splitting the test set into batches to avoid OOM errors with my lovely RTX 4080:\n",
    "# 5920 / 16 = 370\n",
    "\n",
    "Metric = Callable[[torch.Tensor | np.ndarray, torch.Tensor | np.ndarray], torch.Tensor | np.ndarray]\n",
    "\n",
    "def _eval(model: nn.Module, test_batch: torch.Tensor, attention_mask: torch.Tensor, output_hidden_states: bool):\n",
    "    with torch.no_grad():\n",
    "        torch_outs = model(\n",
    "            test_batch,\n",
    "            attention_mask=attention_mask,\n",
    "            output_hidden_states=output_hidden_states\n",
    "        )\n",
    "    return torch_outs\n",
    "\n",
    "\n",
    "def test_and_calculate_metrics(tokens_ids: torch.Tensor,\n",
    "                               labels: torch.Tensor,\n",
    "                               model: nn.Module,\n",
    "                               metrics: List[Metric] | Metric,\n",
    "                               split_into: int = 4,\n",
    "                               output_hidden_states: bool = False):\n",
    "    metric_vals = dict()\n",
    "\n",
    "    if not type(metrics) is list:\n",
    "        # wrap singular metric into a list to use the same interface downstream\n",
    "        metrics = [metric]\n",
    "\n",
    "    for metric in metrics:\n",
    "        # initialize lists where we will store collected metrics\n",
    "        metric_vals[metric.__name__] = []\n",
    "\n",
    "    slice_size = tokens_ids.shape[0] // split_into\n",
    "    for test_batch, batch_labels in zip(tokens_ids.split(slice_size),\n",
    "                                        torch.tensor(labels).split(slice_size)):\n",
    "\n",
    "        # Compute the embeddings:\n",
    "        attention_mask = test_batch != tokenizer.pad_token_id\n",
    "\n",
    "        # Send tokens and attention mask to the GPU:\n",
    "        test_batch = test_batch.to(\"cuda\")\n",
    "        attention_mask = attention_mask.to(\"cuda\")\n",
    "\n",
    "        # Model outputs:\n",
    "        torch_outs = _eval(model,\n",
    "                           test_batch,\n",
    "                           attention_mask,\n",
    "                           output_hidden_states)\n",
    "        \n",
    "        y_hat_prob = nn.Sigmoid()(torch_outs.logits)\n",
    "        y_hat = torch.argmax(y_hat_prob, axis=-1)\n",
    "        for metric in metrics:\n",
    "            metric_value = metric(batch_labels.to(\"cpu\").detach().numpy(), y_hat.to(\"cpu\").detach().numpy())\n",
    "            metric_vals[metric.__name__].append(metric_value)\n",
    "\n",
    "    return metric_vals\n"
   ]
  },
  {
   "attachments": {},
   "cell_type": "markdown",
   "metadata": {},
   "source": [
    "Define a pipeline for testing. This is what will collect and present our metrics:"
   ]
  },
  {
   "cell_type": "code",
   "execution_count": 10,
   "metadata": {},
   "outputs": [],
   "source": [
    "from typing import Dict, List\n",
    "from sklearn.metrics import precision_score, recall_score\n",
    "from pprint import pprint\n",
    "\n",
    "\n",
    "def testing_pipeline(tokenizer, model, test_dataset):\n",
    "\n",
    "    split_into = 4\n",
    "\n",
    "    tokens_ids = tokenizer(test_dataset[\"sequence\"], return_tensors=\"pt\")[\"input_ids\"]\n",
    "\n",
    "    metrics = [accuracy_score, precision_score, recall_score]\n",
    "\n",
    "    metric_vals = test_and_calculate_metrics(tokens_ids,\n",
    "                                             test_dataset[\"label\"],\n",
    "                                             model,\n",
    "                                             metrics,\n",
    "                                             split_into)\n",
    "\n",
    "    avgs_of_metric_vals = dict_average(metric_vals)\n",
    "\n",
    "    pprint(f\"Metrics averaged over batches: {avgs_of_metric_vals}\", indent=4)\n",
    "\n",
    "\n",
    "def dict_average(dict_of_metrics: Dict[str, np.array | List[int] | List[float]]) -> Dict[str, np.ndarray]:\n",
    "    avg_dict = dict()\n",
    "    for k, v in dict_of_metrics.items():\n",
    "        avg_acc = np.mean(v)\n",
    "        avg_dict[k] = avg_acc\n",
    "    return avg_dict"
   ]
  },
  {
   "cell_type": "code",
   "execution_count": 15,
   "metadata": {},
   "outputs": [
    {
     "name": "stdout",
     "output_type": "stream",
     "text": [
      "(\"Metrics averaged over batches: {'accuracy_score': 0.9030405405405405, \"\n",
      " \"'precision_score': 0.9084807312891368, 'recall_score': 0.8987181337691119}\")\n"
     ]
    }
   ],
   "source": [
    "testing_pipeline(tokenizer, model, test_dataset)"
   ]
  },
  {
   "attachments": {},
   "cell_type": "markdown",
   "metadata": {},
   "source": [
    "## DNABERT\n",
    "\n",
    "We now attempt to fine-tune DNABERT on the same task with the same dataset. **You might need to reload your kernel before you start** because your GPU memory could be overloaded."
   ]
  },
  {
   "cell_type": "code",
   "execution_count": 28,
   "metadata": {},
   "outputs": [
    {
     "name": "stderr",
     "output_type": "stream",
     "text": [
      "Some weights of the model checkpoint at zhihan1996/DNA_bert_6 were not used when initializing DNABertForSequenceClassification: ['cls.predictions.decoder.weight', 'cls.predictions.transform.LayerNorm.bias', 'cls.predictions.transform.dense.bias', 'cls.predictions.transform.dense.weight', 'cls.predictions.decoder.bias', 'cls.predictions.transform.LayerNorm.weight', 'cls.predictions.bias']\n",
      "- This IS expected if you are initializing DNABertForSequenceClassification from the checkpoint of a model trained on another task or with another architecture (e.g. initializing a BertForSequenceClassification model from a BertForPreTraining model).\n",
      "- This IS NOT expected if you are initializing DNABertForSequenceClassification from the checkpoint of a model that you expect to be exactly identical (initializing a BertForSequenceClassification model from a BertForSequenceClassification model).\n",
      "Some weights of DNABertForSequenceClassification were not initialized from the model checkpoint at zhihan1996/DNA_bert_6 and are newly initialized: ['classifier.bias', 'classifier.weight']\n",
      "You should probably TRAIN this model on a down-stream task to be able to use it for predictions and inference.\n",
      "Loading cached processed dataset at /home/chris/.cache/huggingface/datasets/csv/default-68212c3a0ebc43dc/0.0.0/eea64c71ca8b46dd3f537ed218fc9bf495d5707789152eb2764f5c78fa66d59d/cache-254c04ed2175bf9b.arrow\n",
      "Some weights of DNABertForSequenceClassification were not initialized from the model checkpoint at zhihan1996/DNA_bert_6 and are newly initialized: ['classifier.bias', 'classifier.weight']\n",
      "You should probably TRAIN this model on a down-stream task to be able to use it for predictions and inference.\n",
      "Loading cached processed dataset at /home/chris/.cache/huggingface/datasets/csv/default-68212c3a0ebc43dc/0.0.0/eea64c71ca8b46dd3f537ed218fc9bf495d5707789152eb2764f5c78fa66d59d/cache-254c04ed2175bf9b.arrow\n",
      "Loading cached processed dataset at /home/chris/.cache/huggingface/datasets/csv/default-68212c3a0ebc43dc/0.0.0/eea64c71ca8b46dd3f537ed218fc9bf495d5707789152eb2764f5c78fa66d59d/cache-7c6d5356ef00729f.arrow\n",
      "/home/chris/miniconda3/envs/enformer/lib/python3.10/site-packages/transformers/optimization.py:411: FutureWarning: This implementation of AdamW is deprecated and will be removed in a future version. Use the PyTorch implementation torch.optim.AdamW instead, or set `no_deprecation_warning=True` to disable this warning\n",
      "  warnings.warn(\n",
      "You're using a BertTokenizerFast tokenizer. Please note that with a fast tokenizer, using the `__call__` method is faster than using a method to encode the text followed by a call to the `pad` method to get a padded encoding.\n"
     ]
    },
    {
     "data": {
      "text/plain": [
       "TrainOutput(global_step=17760, training_loss=0.7012527543145257, metrics={'train_runtime': 546.339, 'train_samples_per_second': 260.036, 'train_steps_per_second': 32.507, 'total_flos': 219021453591120.0, 'train_loss': 0.7012527543145257, 'epoch': 3.0})"
      ]
     },
     "execution_count": 28,
     "metadata": {},
     "output_type": "execute_result"
    }
   ],
   "source": [
    "import torch\n",
    "from transformers import AutoTokenizer, AutoModel, AutoModelForSequenceClassification\n",
    "from transformers import TrainingArguments, Trainer\n",
    "from datasets import Dataset\n",
    "from pathlib import Path\n",
    "\n",
    "tokenizer = AutoTokenizer.from_pretrained(\"zhihan1996/DNA_bert_6\", trust_remote_code=True)\n",
    "model = AutoModelForSequenceClassification.from_pretrained(\"zhihan1996/DNA_bert_6\", trust_remote_code=True)\n",
    "\n",
    "model_save_dir = Path(\"results/model_dnabert\")\n",
    "training_args = TrainingArguments(model_save_dir,\n",
    "                                    evaluation_strategy=\"epoch\")"
   ]
  },
  {
   "cell_type": "code",
   "execution_count": null,
   "metadata": {},
   "outputs": [],
   "source": [
    "\n",
    "trainer = training_pipeline(tokenizer, model, training_args, train_dataset, val_dataset)\n",
    "trainer.train()"
   ]
  },
  {
   "cell_type": "code",
   "execution_count": 29,
   "metadata": {},
   "outputs": [],
   "source": [
    "trainer.save_model(\"dnabert_prom300\")"
   ]
  },
  {
   "attachments": {},
   "cell_type": "markdown",
   "metadata": {},
   "source": [
    "**You might want to restart the kernel and load the model again to save GPU memory before proceeding**. Loading the model back from the saved state:"
   ]
  },
  {
   "cell_type": "code",
   "execution_count": 16,
   "metadata": {},
   "outputs": [],
   "source": [
    "tokenizer = AutoTokenizer.from_pretrained(\"zhihan1996/DNA_bert_6\", trust_remote_code=True)\n",
    "model = AutoModelForSequenceClassification.from_pretrained(\"dnabert_prom300\", trust_remote_code=True)"
   ]
  },
  {
   "attachments": {},
   "cell_type": "markdown",
   "metadata": {},
   "source": [
    "Send model to the GPU:"
   ]
  },
  {
   "cell_type": "code",
   "execution_count": 18,
   "metadata": {},
   "outputs": [],
   "source": [
    "model = model.to(\"cuda\")"
   ]
  },
  {
   "cell_type": "code",
   "execution_count": 22,
   "metadata": {},
   "outputs": [
    {
     "name": "stdout",
     "output_type": "stream",
     "text": [
      "/bin/bash: /home/chris/miniconda3/lib/libtinfo.so.6: no version information available (required by /bin/bash)\n",
      "memory.used [MiB]\n",
      "12063 MiB\n"
     ]
    }
   ],
   "source": [
    "!nvidia-smi --query-gpu=memory.used --format=csv"
   ]
  },
  {
   "cell_type": "code",
   "execution_count": 23,
   "metadata": {},
   "outputs": [
    {
     "name": "stdout",
     "output_type": "stream",
     "text": [
      "(\"Metrics averaged over batches: {'accuracy_score': 0.5033783783783784, \"\n",
      " \"'precision_score': 0.5033783783783784, 'recall_score': 1.0}\")\n"
     ]
    }
   ],
   "source": [
    "testing_pipeline(tokenizer, model, test_dataset)"
   ]
  },
  {
   "attachments": {},
   "cell_type": "markdown",
   "metadata": {},
   "source": [
    "We already know that Nucleotide Transformer has 500M params (since we're using the smaller one) but how many params does DNABERT actually have?"
   ]
  },
  {
   "cell_type": "code",
   "execution_count": 24,
   "metadata": {},
   "outputs": [
    {
     "data": {
      "text/plain": [
       "89192450"
      ]
     },
     "execution_count": 24,
     "metadata": {},
     "output_type": "execute_result"
    }
   ],
   "source": [
    "sum(p.numel() for p in model.parameters() if p.requires_grad)"
   ]
  },
  {
   "attachments": {},
   "cell_type": "markdown",
   "metadata": {},
   "source": [
    "## Monte Carlo Trainings\n",
    "\n",
    "We also initialize the classifier heads with a number of different random weights using a few different random seeds and we evaluate their test stage metrics:"
   ]
  },
  {
   "cell_type": "code",
   "execution_count": 15,
   "metadata": {},
   "outputs": [],
   "source": [
    "import transformers\n",
    "import numpy as np\n",
    "from transformers import AutoTokenizer, AutoModelForSequenceClassification, TrainingArguments\n",
    "from pathlib import Path"
   ]
  },
  {
   "cell_type": "code",
   "execution_count": null,
   "metadata": {},
   "outputs": [],
   "source": [
    "tokenizer = AutoTokenizer.from_pretrained(\"InstaDeepAI/nucleotide-transformer-500m-human-ref\")\n",
    "model_loader = lambda: AutoModelForSequenceClassification.from_pretrained(\"InstaDeepAI/nucleotide-transformer-500m-human-ref\", num_labels=2)\n",
    "model_save_dir = Path(\"results/model_nucleotide_transformer\")\n",
    "training_args = TrainingArguments(model_save_dir,\n",
    "                                  evaluation_strategy=\"epoch\")"
   ]
  },
  {
   "cell_type": "code",
   "execution_count": 11,
   "metadata": {},
   "outputs": [
    {
     "name": "stdout",
     "output_type": "stream",
     "text": [
      "[50 73  7]\n"
     ]
    },
    {
     "name": "stderr",
     "output_type": "stream",
     "text": [
      "/tmp/ipykernel_395551/3266936354.py:3: DeprecationWarning: This function is deprecated. Please call randint(1, 100 + 1) instead\n",
      "  random_seeds = np.random.random_integers(1, 100, how_many_monte_carlo_runs)\n"
     ]
    }
   ],
   "source": [
    "np.random.seed(420)\n",
    "how_many_monte_carlo_runs = 3\n",
    "random_seeds = np.random.random_integers(1, 100, how_many_monte_carlo_runs)\n",
    "print(random_seeds)"
   ]
  },
  {
   "cell_type": "code",
   "execution_count": 12,
   "metadata": {},
   "outputs": [],
   "source": [
    "def monte_carlo_train_and_test_pipeline(tokenizer, model_loader, training_args, train_dataset, val_dataset, seed: int):\n",
    "    transformers.set_seed(seed)\n",
    "    # Start from the pretrained model at each iteration:\n",
    "    model = model_loader()\n",
    "    # If you enjoy faster training times...\n",
    "    model.to(\"cuda\")\n",
    "    # Train:\n",
    "    trainer = training_pipeline(tokenizer, model, training_args, train_dataset, val_dataset)\n",
    "    trainer.train()\n",
    "    # Test:\n",
    "    testing_pipeline(tokenizer, model, test_dataset)"
   ]
  },
  {
   "attachments": {},
   "cell_type": "markdown",
   "metadata": {},
   "source": [
    "Due to memory limitations we need to fine-tune the model on each Monte Carlo run manually and we need to **restart the kernel** after each seed is used to guarantee that the memory is freed:"
   ]
  },
  {
   "cell_type": "code",
   "execution_count": null,
   "metadata": {},
   "outputs": [],
   "source": [
    "monte_carlo_train_and_test_pipeline(tokenizer, model_loader, training_args, train_dataset, val_dataset, random_seeds[0])"
   ]
  },
  {
   "cell_type": "code",
   "execution_count": 15,
   "metadata": {},
   "outputs": [
    {
     "name": "stderr",
     "output_type": "stream",
     "text": [
      "Some weights of the model checkpoint at InstaDeepAI/nucleotide-transformer-500m-human-ref were not used when initializing EsmForSequenceClassification: ['lm_head.dense.weight', 'lm_head.dense.bias', 'lm_head.bias', 'lm_head.layer_norm.bias', 'lm_head.layer_norm.weight', 'lm_head.decoder.weight']\n",
      "- This IS expected if you are initializing EsmForSequenceClassification from the checkpoint of a model trained on another task or with another architecture (e.g. initializing a BertForSequenceClassification model from a BertForPreTraining model).\n",
      "- This IS NOT expected if you are initializing EsmForSequenceClassification from the checkpoint of a model that you expect to be exactly identical (initializing a BertForSequenceClassification model from a BertForSequenceClassification model).\n",
      "Some weights of EsmForSequenceClassification were not initialized from the model checkpoint at InstaDeepAI/nucleotide-transformer-500m-human-ref and are newly initialized: ['classifier.out_proj.bias', 'classifier.out_proj.weight', 'classifier.dense.weight', 'classifier.dense.bias']\n",
      "You should probably TRAIN this model on a down-stream task to be able to use it for predictions and inference.\n",
      "Loading cached processed dataset at /home/chris/.cache/huggingface/datasets/csv/default-68212c3a0ebc43dc/0.0.0/eea64c71ca8b46dd3f537ed218fc9bf495d5707789152eb2764f5c78fa66d59d/cache-c03578642010e454.arrow\n",
      "Loading cached processed dataset at /home/chris/.cache/huggingface/datasets/csv/default-68212c3a0ebc43dc/0.0.0/eea64c71ca8b46dd3f537ed218fc9bf495d5707789152eb2764f5c78fa66d59d/cache-0b114df6c15db2ec.arrow\n",
      "/home/chris/miniconda3/envs/enformer/lib/python3.10/site-packages/transformers/optimization.py:411: FutureWarning: This implementation of AdamW is deprecated and will be removed in a future version. Use the PyTorch implementation torch.optim.AdamW instead, or set `no_deprecation_warning=True` to disable this warning\n",
      "  warnings.warn(\n"
     ]
    },
    {
     "data": {
      "text/html": [
       "\n",
       "    <div>\n",
       "      \n",
       "      <progress value='27' max='17760' style='width:300px; height:20px; vertical-align: middle;'></progress>\n",
       "      [   27/17760 00:02 < 29:58, 9.86 it/s, Epoch 0.00/3]\n",
       "    </div>\n",
       "    <table border=\"1\" class=\"dataframe\">\n",
       "  <thead>\n",
       " <tr style=\"text-align: left;\">\n",
       "      <th>Epoch</th>\n",
       "      <th>Training Loss</th>\n",
       "      <th>Validation Loss</th>\n",
       "    </tr>\n",
       "  </thead>\n",
       "  <tbody>\n",
       "  </tbody>\n",
       "</table><p>"
      ],
      "text/plain": [
       "<IPython.core.display.HTML object>"
      ]
     },
     "metadata": {},
     "output_type": "display_data"
    },
    {
     "name": "stdout",
     "output_type": "stream",
     "text": [
      "(\"Metrics averaged over batches: {'accuracy_score': 0.9109797297297297, \"\n",
      " \"'precision_score': 0.9133445170612462, 'recall_score': 0.9101584816064393}\")\n"
     ]
    }
   ],
   "source": [
    "monte_carlo_train_and_test_pipeline(tokenizer, model_loader, training_args, train_dataset, val_dataset, random_seeds[1])"
   ]
  },
  {
   "cell_type": "code",
   "execution_count": 14,
   "metadata": {},
   "outputs": [
    {
     "name": "stderr",
     "output_type": "stream",
     "text": [
      "Some weights of the model checkpoint at InstaDeepAI/nucleotide-transformer-500m-human-ref were not used when initializing EsmForSequenceClassification: ['lm_head.layer_norm.weight', 'lm_head.dense.bias', 'lm_head.layer_norm.bias', 'lm_head.decoder.weight', 'lm_head.bias', 'lm_head.dense.weight']\n",
      "- This IS expected if you are initializing EsmForSequenceClassification from the checkpoint of a model trained on another task or with another architecture (e.g. initializing a BertForSequenceClassification model from a BertForPreTraining model).\n",
      "- This IS NOT expected if you are initializing EsmForSequenceClassification from the checkpoint of a model that you expect to be exactly identical (initializing a BertForSequenceClassification model from a BertForSequenceClassification model).\n",
      "Some weights of EsmForSequenceClassification were not initialized from the model checkpoint at InstaDeepAI/nucleotide-transformer-500m-human-ref and are newly initialized: ['classifier.out_proj.weight', 'classifier.out_proj.bias', 'classifier.dense.bias', 'classifier.dense.weight']\n",
      "You should probably TRAIN this model on a down-stream task to be able to use it for predictions and inference.\n",
      "Loading cached processed dataset at /home/chris/.cache/huggingface/datasets/csv/default-68212c3a0ebc43dc/0.0.0/eea64c71ca8b46dd3f537ed218fc9bf495d5707789152eb2764f5c78fa66d59d/cache-c03578642010e454.arrow\n",
      "Loading cached processed dataset at /home/chris/.cache/huggingface/datasets/csv/default-68212c3a0ebc43dc/0.0.0/eea64c71ca8b46dd3f537ed218fc9bf495d5707789152eb2764f5c78fa66d59d/cache-0b114df6c15db2ec.arrow\n",
      "/home/chris/miniconda3/envs/enformer/lib/python3.10/site-packages/transformers/optimization.py:411: FutureWarning: This implementation of AdamW is deprecated and will be removed in a future version. Use the PyTorch implementation torch.optim.AdamW instead, or set `no_deprecation_warning=True` to disable this warning\n",
      "  warnings.warn(\n"
     ]
    },
    {
     "data": {
      "text/html": [
       "\n",
       "    <div>\n",
       "      \n",
       "      <progress value='4' max='17760' style='width:300px; height:20px; vertical-align: middle;'></progress>\n",
       "      [    4/17760 00:00 < 30:21, 9.75 it/s, Epoch 0.00/3]\n",
       "    </div>\n",
       "    <table border=\"1\" class=\"dataframe\">\n",
       "  <thead>\n",
       " <tr style=\"text-align: left;\">\n",
       "      <th>Epoch</th>\n",
       "      <th>Training Loss</th>\n",
       "      <th>Validation Loss</th>\n",
       "    </tr>\n",
       "  </thead>\n",
       "  <tbody>\n",
       "  </tbody>\n",
       "</table><p>"
      ],
      "text/plain": [
       "<IPython.core.display.HTML object>"
      ]
     },
     "metadata": {},
     "output_type": "display_data"
    },
    {
     "name": "stdout",
     "output_type": "stream",
     "text": [
      "(\"Metrics averaged over batches: {'accuracy_score': 0.9119932432432432, \"\n",
      " \"'precision_score': 0.9211313731447485, 'recall_score': 0.9031749725928688}\")\n"
     ]
    }
   ],
   "source": [
    "monte_carlo_train_and_test_pipeline(tokenizer, model_loader, training_args, train_dataset, val_dataset, random_seeds[2])"
   ]
  },
  {
   "cell_type": "code",
   "execution_count": 13,
   "metadata": {},
   "outputs": [
    {
     "name": "stdout",
     "output_type": "stream",
     "text": [
      "/bin/bash: /home/chris/miniconda3/lib/libtinfo.so.6: no version information available (required by /bin/bash)\n",
      "memory.used [MiB]\n",
      "169 MiB\n"
     ]
    }
   ],
   "source": [
    "!nvidia-smi --query-gpu=memory.used --format=csv"
   ]
  },
  {
   "attachments": {},
   "cell_type": "markdown",
   "metadata": {},
   "source": [
    "Then we do the same for DNABERT:"
   ]
  },
  {
   "cell_type": "code",
   "execution_count": 16,
   "metadata": {},
   "outputs": [],
   "source": [
    "tokenizer = AutoTokenizer.from_pretrained(\"zhihan1996/DNA_bert_6\", trust_remote_code=True)\n",
    "model_loader = lambda: AutoModelForSequenceClassification.from_pretrained(\"zhihan1996/DNA_bert_6\", trust_remote_code=True)\n",
    "\n",
    "model_save_dir = Path(\"results/model_dnabert\")\n",
    "training_args = TrainingArguments(model_save_dir,\n",
    "                                  evaluation_strategy=\"epoch\")"
   ]
  },
  {
   "cell_type": "code",
   "execution_count": 17,
   "metadata": {},
   "outputs": [
    {
     "name": "stderr",
     "output_type": "stream",
     "text": [
      "Some weights of the model checkpoint at zhihan1996/DNA_bert_6 were not used when initializing DNABertForSequenceClassification: ['cls.predictions.transform.LayerNorm.weight', 'cls.predictions.transform.dense.bias', 'cls.predictions.bias', 'cls.predictions.decoder.weight', 'cls.predictions.transform.LayerNorm.bias', 'cls.predictions.decoder.bias', 'cls.predictions.transform.dense.weight']\n",
      "- This IS expected if you are initializing DNABertForSequenceClassification from the checkpoint of a model trained on another task or with another architecture (e.g. initializing a BertForSequenceClassification model from a BertForPreTraining model).\n",
      "- This IS NOT expected if you are initializing DNABertForSequenceClassification from the checkpoint of a model that you expect to be exactly identical (initializing a BertForSequenceClassification model from a BertForSequenceClassification model).\n",
      "Some weights of DNABertForSequenceClassification were not initialized from the model checkpoint at zhihan1996/DNA_bert_6 and are newly initialized: ['classifier.weight', 'classifier.bias']\n",
      "You should probably TRAIN this model on a down-stream task to be able to use it for predictions and inference.\n",
      "Some weights of DNABertForSequenceClassification were not initialized from the model checkpoint at zhihan1996/DNA_bert_6 and are newly initialized: ['classifier.weight', 'classifier.bias']\n",
      "You should probably TRAIN this model on a down-stream task to be able to use it for predictions and inference.\n",
      "Loading cached processed dataset at /home/chris/.cache/huggingface/datasets/csv/default-68212c3a0ebc43dc/0.0.0/eea64c71ca8b46dd3f537ed218fc9bf495d5707789152eb2764f5c78fa66d59d/cache-254c04ed2175bf9b.arrow\n",
      "Loading cached processed dataset at /home/chris/.cache/huggingface/datasets/csv/default-68212c3a0ebc43dc/0.0.0/eea64c71ca8b46dd3f537ed218fc9bf495d5707789152eb2764f5c78fa66d59d/cache-7c6d5356ef00729f.arrow\n",
      "/home/chris/miniconda3/envs/enformer/lib/python3.10/site-packages/transformers/optimization.py:411: FutureWarning: This implementation of AdamW is deprecated and will be removed in a future version. Use the PyTorch implementation torch.optim.AdamW instead, or set `no_deprecation_warning=True` to disable this warning\n",
      "  warnings.warn(\n",
      "You're using a BertTokenizerFast tokenizer. Please note that with a fast tokenizer, using the `__call__` method is faster than using a method to encode the text followed by a call to the `pad` method to get a padded encoding.\n"
     ]
    },
    {
     "name": "stdout",
     "output_type": "stream",
     "text": [
      "(\"Metrics averaged over batches: {'accuracy_score': 0.5033783783783784, \"\n",
      " \"'precision_score': 0.5033783783783784, 'recall_score': 1.0}\")\n"
     ]
    }
   ],
   "source": [
    "monte_carlo_train_and_test_pipeline(tokenizer, model_loader, training_args, train_dataset, val_dataset, random_seeds[0])"
   ]
  },
  {
   "cell_type": "code",
   "execution_count": 18,
   "metadata": {},
   "outputs": [
    {
     "name": "stderr",
     "output_type": "stream",
     "text": [
      "Some weights of the model checkpoint at zhihan1996/DNA_bert_6 were not used when initializing DNABertForSequenceClassification: ['cls.predictions.transform.LayerNorm.weight', 'cls.predictions.transform.dense.bias', 'cls.predictions.bias', 'cls.predictions.decoder.weight', 'cls.predictions.transform.LayerNorm.bias', 'cls.predictions.decoder.bias', 'cls.predictions.transform.dense.weight']\n",
      "- This IS expected if you are initializing DNABertForSequenceClassification from the checkpoint of a model trained on another task or with another architecture (e.g. initializing a BertForSequenceClassification model from a BertForPreTraining model).\n",
      "- This IS NOT expected if you are initializing DNABertForSequenceClassification from the checkpoint of a model that you expect to be exactly identical (initializing a BertForSequenceClassification model from a BertForSequenceClassification model).\n",
      "Some weights of DNABertForSequenceClassification were not initialized from the model checkpoint at zhihan1996/DNA_bert_6 and are newly initialized: ['classifier.weight', 'classifier.bias']\n",
      "You should probably TRAIN this model on a down-stream task to be able to use it for predictions and inference.\n",
      "Some weights of DNABertForSequenceClassification were not initialized from the model checkpoint at zhihan1996/DNA_bert_6 and are newly initialized: ['classifier.weight', 'classifier.bias']\n",
      "You should probably TRAIN this model on a down-stream task to be able to use it for predictions and inference.\n",
      "                                                                    "
     ]
    },
    {
     "name": "stdout",
     "output_type": "stream",
     "text": [
      "(\"Metrics averaged over batches: {'accuracy_score': 0.5033783783783784, \"\n",
      " \"'precision_score': 0.5033783783783784, 'recall_score': 1.0}\")\n"
     ]
    }
   ],
   "source": [
    "\n",
    "monte_carlo_train_and_test_pipeline(tokenizer, model_loader, training_args, train_dataset, val_dataset, random_seeds[1])"
   ]
  },
  {
   "cell_type": "code",
   "execution_count": 19,
   "metadata": {},
   "outputs": [
    {
     "name": "stderr",
     "output_type": "stream",
     "text": [
      "Some weights of the model checkpoint at zhihan1996/DNA_bert_6 were not used when initializing DNABertForSequenceClassification: ['cls.predictions.transform.LayerNorm.weight', 'cls.predictions.transform.dense.bias', 'cls.predictions.bias', 'cls.predictions.decoder.weight', 'cls.predictions.transform.LayerNorm.bias', 'cls.predictions.decoder.bias', 'cls.predictions.transform.dense.weight']\n",
      "- This IS expected if you are initializing DNABertForSequenceClassification from the checkpoint of a model trained on another task or with another architecture (e.g. initializing a BertForSequenceClassification model from a BertForPreTraining model).\n",
      "- This IS NOT expected if you are initializing DNABertForSequenceClassification from the checkpoint of a model that you expect to be exactly identical (initializing a BertForSequenceClassification model from a BertForSequenceClassification model).\n",
      "Some weights of DNABertForSequenceClassification were not initialized from the model checkpoint at zhihan1996/DNA_bert_6 and are newly initialized: ['classifier.weight', 'classifier.bias']\n",
      "You should probably TRAIN this model on a down-stream task to be able to use it for predictions and inference.\n",
      "Some weights of DNABertForSequenceClassification were not initialized from the model checkpoint at zhihan1996/DNA_bert_6 and are newly initialized: ['classifier.weight', 'classifier.bias']\n",
      "You should probably TRAIN this model on a down-stream task to be able to use it for predictions and inference.\n",
      "Loading cached processed dataset at /home/chris/.cache/huggingface/datasets/csv/default-68212c3a0ebc43dc/0.0.0/eea64c71ca8b46dd3f537ed218fc9bf495d5707789152eb2764f5c78fa66d59d/cache-6b12aed422495596.arrow\n",
      "/home/chris/miniconda3/envs/enformer/lib/python3.10/site-packages/transformers/optimization.py:411: FutureWarning: This implementation of AdamW is deprecated and will be removed in a future version. Use the PyTorch implementation torch.optim.AdamW instead, or set `no_deprecation_warning=True` to disable this warning\n",
      "  warnings.warn(\n"
     ]
    },
    {
     "name": "stdout",
     "output_type": "stream",
     "text": [
      "(\"Metrics averaged over batches: {'accuracy_score': 0.5033783783783784, \"\n",
      " \"'precision_score': 0.5033783783783784, 'recall_score': 1.0}\")\n"
     ]
    }
   ],
   "source": [
    "monte_carlo_train_and_test_pipeline(tokenizer, model_loader, training_args, train_dataset, val_dataset, random_seeds[2])"
   ]
  },
  {
   "attachments": {},
   "cell_type": "markdown",
   "metadata": {},
   "source": [
    "## Entropy of 4-letter DNA Representation vs. DNA+P Representation"
   ]
  },
  {
   "cell_type": "code",
   "execution_count": 7,
   "metadata": {},
   "outputs": [
    {
     "name": "stdout",
     "output_type": "stream",
     "text": [
      "0.014177999999999998\n"
     ]
    }
   ],
   "source": [
    "import pandas as pd\n",
    "from typing import Dict\n",
    "from scipy.stats import entropy\n",
    "\n",
    "# The probability table has been extracted from:\n",
    "# https://www.ncbi.nlm.nih.gov/pmc/articles/PMC7127678/\n",
    "probability_table_dnap = {\n",
    "    \"A\": 0.0777,\n",
    "    \"C\": 0.0157,\n",
    "    \"D\": 0.0530,\n",
    "    \"E\": 0.0656,\n",
    "    \"F\": 0.0405,\n",
    "    \"G\": 0.0691,\n",
    "    \"H\": 0.0227,\n",
    "    \"I\": 0.0591,\n",
    "    \"K\": 0.0595,\n",
    "    \"L\": 0.0960,\n",
    "    \"M\": 0.0238,\n",
    "    \"N\": 0.0427,\n",
    "    \"P\": 0.0469,\n",
    "    \"Q\": 0.0393,\n",
    "    \"R\": 0.0526,\n",
    "    \"S\": 0.0694,\n",
    "    \"T\": 0.0550,\n",
    "    \"V\": 0.0667,\n",
    "    \"W\": 0.0118,\n",
    "    \"Y\": 0.0311,\n",
    "}\n",
    "\n",
    "probability_of_gene = {\n",
    "    # approximately 1.5% of the human genome consists of protein-encoding genes\n",
    "    # https://www.ncbi.nlm.nih.gov/pmc/articles/PMC9186530/\n",
    "    \"M\": 0.015,\n",
    "    \"*\": 0.015\n",
    "}\n",
    "\n",
    "probability_table_given_gene = {k: v * probability_of_gene[\"M\"] for k, v in probability_table_dnap.items()}\n",
    "\n",
    "protein_alphabet_map = {\n",
    "    \"A\": \"Ala\",\n",
    "    \"C\": \"Cys\",\n",
    "    \"D\": \"Asp\",\n",
    "    \"E\": \"Glu\",\n",
    "    \"F\": \"Phe\",\n",
    "    \"G\": \"Gly\",\n",
    "    \"H\": \"His\",\n",
    "    \"I\": \"Ile\",\n",
    "    \"K\": \"Lys\",\n",
    "    \"L\": \"Leu\",\n",
    "    \"M\": \"Met\",\n",
    "    \"N\": \"Asp\",\n",
    "    \"P\": \"Pro\",\n",
    "    \"Q\": \"Gln\",\n",
    "    \"R\": \"Arg\",\n",
    "    \"S\": \"Ser\",\n",
    "    \"T\": \"Thr\",\n",
    "    \"V\": \"Val\",\n",
    "    \"W\": \"Trp\",\n",
    "    \"Y\": \"Tyr\",\n",
    "    \"*\": \"*\"\n",
    "}\n",
    "\n",
    "probability_table_given_gene_3_letter = {protein_alphabet_map[k]: v for k, v in probability_table_given_gene.items()}\n",
    "expected_probability_of_gene = sum(probability_table_given_gene_3_letter.values())\n",
    "print(expected_probability_of_gene)  # should come out to about 15%"
   ]
  },
  {
   "cell_type": "code",
   "execution_count": 12,
   "metadata": {},
   "outputs": [
    {
     "name": "stdout",
     "output_type": "stream",
     "text": [
      "{'A': 0.29574659999999997, 'T': 0.29574659999999997, 'G': 0.18730618, 'C': 0.18730618}\n"
     ]
    }
   ],
   "source": [
    "# What is the probability that a base does not belong to a particular gene:\n",
    "expected_probability_of_non_gene = 1 - expected_probability_of_gene\n",
    "\n",
    "# Assume general base distribution in human genome for those sequences that are non-genes:\n",
    "# https://pubs.acs.org/doi/pdf/10.1021/ja01111a016\n",
    "# We take this from the revolutionary Chargaff's paper and we take values for the human genome\n",
    "# rounded up so that pairing bases have the exact same probability (A, T and G, C)\n",
    "\n",
    "probabilities_of_bases_in_general = {\n",
    "    \"A\": 0.30,  # Chargaff: 0.304\n",
    "    \"T\": 0.30,  # Chargaff: 0.301\n",
    "    \"G\": 0.19,  # Chargaff: 0.196\n",
    "    \"C\": 0.19   # Chargaff: 0.199\n",
    "}\n",
    "\n",
    "probabilities_of_bases_elsewhere = {k: v * expected_probability_of_non_gene\n",
    "                                    for k, v in probabilities_of_bases_in_general.items()\n",
    "}\n",
    "\n",
    "print(probabilities_of_bases_elsewhere)"
   ]
  },
  {
   "cell_type": "code",
   "execution_count": 13,
   "metadata": {},
   "outputs": [],
   "source": [
    "# Now we can put all probability values into one table:\n",
    "from copy import deepcopy\n",
    "\n",
    "probability_table_dnap = deepcopy(probability_table_given_gene_3_letter)\n",
    "probability_table_dnap.update(probabilities_of_bases_elsewhere)"
   ]
  },
  {
   "cell_type": "code",
   "execution_count": 14,
   "metadata": {},
   "outputs": [
    {
     "name": "stdout",
     "output_type": "stream",
     "text": [
      "{'Ala': 0.0011655, 'Cys': 0.00023549999999999998, 'Asp': 0.0006405, 'Glu': 0.000984, 'Phe': 0.0006075, 'Gly': 0.0010364999999999999, 'His': 0.0003405, 'Ile': 0.0008864999999999999, 'Lys': 0.0008925, 'Leu': 0.0014399999999999999, 'Met': 0.000357, 'Pro': 0.0007034999999999999, 'Gln': 0.0005895, 'Arg': 0.000789, 'Ser': 0.001041, 'Thr': 0.000825, 'Val': 0.0010004999999999999, 'Trp': 0.000177, 'Tyr': 0.00046649999999999996, 'A': 0.29574659999999997, 'T': 0.29574659999999997, 'G': 0.18730618, 'C': 0.18730618}\n"
     ]
    }
   ],
   "source": [
    "print(probability_table_dnap)"
   ]
  },
  {
   "attachments": {},
   "cell_type": "markdown",
   "metadata": {},
   "source": [
    "Check if we got it right, whether this roughly sums up to $1$:"
   ]
  },
  {
   "cell_type": "code",
   "execution_count": 15,
   "metadata": {},
   "outputs": [
    {
     "name": "stdout",
     "output_type": "stream",
     "text": [
      "0.9802835599999999\n"
     ]
    }
   ],
   "source": [
    "print(sum(probability_table_dnap.values()))"
   ]
  },
  {
   "attachments": {},
   "cell_type": "markdown",
   "metadata": {},
   "source": [
    "Looks good. Now with this distribution at hand, it's possible to calculate sequence entropies, including expected entropies:"
   ]
  },
  {
   "cell_type": "code",
   "execution_count": 19,
   "metadata": {},
   "outputs": [],
   "source": [
    "def entropy_of_dnap_sequence(seq: str,\n",
    "                             probability_table_dnap: Dict[str, float]):\n",
    "    probs = []\n",
    "    for n in seq:\n",
    "        prob = probability_table_dnap[n.upper()]\n",
    "        probs.append(prob)\n",
    "    return entropy(probs)\n",
    "\n",
    "\n",
    "def expected_entropy(probability_table: Dict[str, float]): return entropy(list(probability_table.values()))\n",
    "\n",
    "def expected_entropy_dnap(): return expected_entropy(probability_table_dnap)\n",
    "\n",
    "def expected_entropy_voss(): return expected_entropy(probabilities_of_bases_in_general)\n",
    "\n",
    "# TODO: calculate the expected entropy for a 6-mer representation, use all combinations of probabilities, check Large Mental Diarrhea Notebook\n",
    "def expected_entropy_6_mer(): return None"
   ]
  },
  {
   "cell_type": "code",
   "execution_count": 20,
   "metadata": {},
   "outputs": [
    {
     "name": "stdout",
     "output_type": "stream",
     "text": [
      "1.4579007912957895\n",
      "1.3608804979761429\n",
      "None\n"
     ]
    }
   ],
   "source": [
    "print(expected_entropy_dnap())\n",
    "print(expected_entropy_voss())\n",
    "print(expected_entropy_6_mer())"
   ]
  },
  {
   "attachments": {},
   "cell_type": "markdown",
   "metadata": {},
   "source": [
    "- [ ] Compare the Shannon Entropy for samples labeled as containing promoter sequences vs those that are labeled as not containing promoter sequences"
   ]
  },
  {
   "attachments": {},
   "cell_type": "markdown",
   "metadata": {},
   "source": []
  }
 ],
 "metadata": {
  "kernelspec": {
   "display_name": "enformer",
   "language": "python",
   "name": "python3"
  },
  "language_info": {
   "codemirror_mode": {
    "name": "ipython",
    "version": 3
   },
   "file_extension": ".py",
   "mimetype": "text/x-python",
   "name": "python",
   "nbconvert_exporter": "python",
   "pygments_lexer": "ipython3",
   "version": "3.10.11"
  },
  "orig_nbformat": 4
 },
 "nbformat": 4,
 "nbformat_minor": 2
}
